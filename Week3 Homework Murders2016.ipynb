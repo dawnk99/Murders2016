{
 "cells": [
  {
   "cell_type": "code",
   "execution_count": 2,
   "id": "3a6a69a8-1699-4337-94f3-18f66fbeb65e",
   "metadata": {},
   "outputs": [],
   "source": [
    "## assign values to variables\n",
    "ChiMurders = 762\n",
    "LAMurders = 294\n",
    "NYCMurders = 334\n",
    "SanJoseMurders = 47\n",
    "ChiPop = 2705000\n",
    "LAPop = 3976000\n",
    "NYCPop = 8538000\n",
    "SanJosePop = 1025000"
   ]
  },
  {
   "cell_type": "code",
   "execution_count": 6,
   "id": "afe61437-5a33-49e3-ab3a-6d89c74472bd",
   "metadata": {},
   "outputs": [],
   "source": [
    "## calculate rate for nyc\n",
    "NYCMurderRate = (NYCMurders/NYCPop) * 100000"
   ]
  },
  {
   "cell_type": "code",
   "execution_count": 14,
   "id": "be81c435-c509-4042-9ec2-743674fa4167",
   "metadata": {},
   "outputs": [],
   "source": [
    "## calculate the chicago rate\n",
    "ChiMurderRate  = (ChiMurders/ChiPop) * 100000"
   ]
  },
  {
   "cell_type": "code",
   "execution_count": 8,
   "id": "54deee29-2278-40b6-832b-9c0cc74c5bd4",
   "metadata": {},
   "outputs": [
    {
     "data": {
      "text/plain": [
       "3.911923167018037"
      ]
     },
     "execution_count": 8,
     "metadata": {},
     "output_type": "execute_result"
    }
   ],
   "source": [
    "NYCMurderRate"
   ]
  },
  {
   "cell_type": "code",
   "execution_count": 18,
   "id": "e4954f58-d1d3-40b5-b2cf-b8dd7a354869",
   "metadata": {},
   "outputs": [],
   "source": [
    "## calculate the San Jose rate\n",
    "SanJoseMurderRate = (SanJoseMurders/SanJosePop) * 100000"
   ]
  },
  {
   "cell_type": "code",
   "execution_count": 16,
   "id": "4d429ffc-5bbd-44bd-ac74-203b79a7e8eb",
   "metadata": {},
   "outputs": [
    {
     "data": {
      "text/plain": [
       "28.170055452865068"
      ]
     },
     "execution_count": 16,
     "metadata": {},
     "output_type": "execute_result"
    }
   ],
   "source": [
    "ChiMurderRate"
   ]
  },
  {
   "cell_type": "code",
   "execution_count": 20,
   "id": "66b58290-70af-4d43-92bd-ff529b5914c9",
   "metadata": {},
   "outputs": [
    {
     "data": {
      "text/plain": [
       "4.585365853658536"
      ]
     },
     "execution_count": 20,
     "metadata": {},
     "output_type": "execute_result"
    }
   ],
   "source": [
    "SanJoseMurderRate"
   ]
  },
  {
   "cell_type": "code",
   "execution_count": 22,
   "id": "d7732d0d-2a19-4c13-916b-4df78be04a5b",
   "metadata": {},
   "outputs": [],
   "source": [
    "LAMurderRate = (LAMurders/LAPop) * 100000"
   ]
  },
  {
   "cell_type": "code",
   "execution_count": 24,
   "id": "66a9ee29-661a-4fff-9809-dff13dc2f497",
   "metadata": {},
   "outputs": [
    {
     "data": {
      "text/plain": [
       "7.394366197183098"
      ]
     },
     "execution_count": 24,
     "metadata": {},
     "output_type": "execute_result"
    }
   ],
   "source": [
    "LAMurderRate"
   ]
  },
  {
   "cell_type": "code",
   "execution_count": 34,
   "id": "744e58b5-ba6f-4f97-8eea-040b5c83dba0",
   "metadata": {},
   "outputs": [
    {
     "name": "stdout",
     "output_type": "stream",
     "text": [
      "NYC has a murder rate of 3.91 per 100K while San Jose, LA, and Chicago have rates of 4.59, 7.39 and 28.17 per 100K, respectively.\n"
     ]
    }
   ],
   "source": [
    "## write sentence using f-strings that notes which city has the lowest m\n",
    "print (f\"NYC has a murder rate of {NYCMurderRate:,.2F} per 100K while San Jose, LA, and Chicago have rates of {SanJoseMurderRate:,.2F}, {LAMurderRate:,.2F} and {ChiMurderRate:,.2F} per 100K, respectively.\")"
   ]
  },
  {
   "cell_type": "code",
   "execution_count": null,
   "id": "1fdace0c-ce6b-4e9c-bf95-9977dd0570ca",
   "metadata": {},
   "outputs": [],
   "source": []
  }
 ],
 "metadata": {
  "kernelspec": {
   "display_name": "Python [conda env:base] *",
   "language": "python",
   "name": "conda-base-py"
  },
  "language_info": {
   "codemirror_mode": {
    "name": "ipython",
    "version": 3
   },
   "file_extension": ".py",
   "mimetype": "text/x-python",
   "name": "python",
   "nbconvert_exporter": "python",
   "pygments_lexer": "ipython3",
   "version": "3.12.7"
  }
 },
 "nbformat": 4,
 "nbformat_minor": 5
}
